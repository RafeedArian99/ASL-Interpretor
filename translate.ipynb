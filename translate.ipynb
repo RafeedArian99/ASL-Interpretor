{
 "cells": [
  {
   "cell_type": "code",
   "execution_count": 4,
   "metadata": {},
   "outputs": [
    {
     "data": {
      "text/plain": [
       "True"
      ]
     },
     "execution_count": 4,
     "metadata": {},
     "output_type": "execute_result"
    }
   ],
   "source": [
    "from langchain_openai import OpenAI\n",
    "from dotenv import load_dotenv\n",
    "\n",
    "load_dotenv()"
   ]
  },
  {
   "cell_type": "code",
   "execution_count": 7,
   "metadata": {},
   "outputs": [
    {
     "name": "stdout",
     "output_type": "stream",
     "text": [
      "\n",
      "\n",
      "MY SENTENCES AND PHRASES SEPARATE APPROPRIATELY EACH ALSO SHOULD IT.\n"
     ]
    }
   ],
   "source": [
    "llm = OpenAI(temperature=0.8)\n",
    "\n",
    "phrase = 'It should also separate each of my sentences and phrases appropriately.'\n",
    "\n",
    "print(llm.invoke(f'If there was an English-to-ASL translator that took in a sentence as input, and outputed the words (not signs) in proper ASL order, how would it translate the phrase \"{phrase}\"? Provide only the output of this translator and nothing else.'))"
   ]
  },
  {
   "cell_type": "code",
   "execution_count": null,
   "metadata": {},
   "outputs": [],
   "source": []
  }
 ],
 "metadata": {
  "kernelspec": {
   "display_name": "Python 3",
   "language": "python",
   "name": "python3"
  },
  "language_info": {
   "codemirror_mode": {
    "name": "ipython",
    "version": 3
   },
   "file_extension": ".py",
   "mimetype": "text/x-python",
   "name": "python",
   "nbconvert_exporter": "python",
   "pygments_lexer": "ipython3",
   "version": "3.12.2"
  }
 },
 "nbformat": 4,
 "nbformat_minor": 2
}
